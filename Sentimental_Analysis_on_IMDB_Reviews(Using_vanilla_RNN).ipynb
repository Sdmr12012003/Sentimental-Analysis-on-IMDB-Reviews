{
  "nbformat": 4,
  "nbformat_minor": 0,
  "metadata": {
    "colab": {
      "provenance": []
    },
    "kernelspec": {
      "name": "python3",
      "display_name": "Python 3"
    },
    "language_info": {
      "name": "python"
    }
  },
  "cells": [
    {
      "cell_type": "code",
      "execution_count": null,
      "metadata": {
        "id": "GYeSxQ9c0jsB"
      },
      "outputs": [],
      "source": [
        "from tensorflow import keras\n",
        "from tensorflow.keras.preprocessing import sequence\n",
        "from tensorflow.keras.models import Sequential\n",
        "from tensorflow.keras.layers import Dense,Embedding\n",
        "from tensorflow.keras.layers import SimpleRNN\n",
        "from tensorflow.keras.datasets import imdb\n",
        "from tensorflow.keras import initializers"
      ]
    },
    {
      "cell_type": "code",
      "source": [
        "max_features = 20000 #This is used in loading the data , picks the most common (max_features) words\n",
        "maxlen = 30 # maximum_length of sequence - truncate after thus limit\n",
        "batch_size = 32"
      ],
      "metadata": {
        "id": "Q5WAaEzxF6uV"
      },
      "execution_count": null,
      "outputs": []
    },
    {
      "cell_type": "code",
      "source": [
        "(x_train, y_train) , (x_test,y_test) = imdb.load_data(num_words=max_features)\n",
        "print(len(x_train) , 'train sequences')\n",
        "print(len(x_test) , 'test sequences')"
      ],
      "metadata": {
        "colab": {
          "base_uri": "https://localhost:8080/"
        },
        "id": "-Vlt66ndO7ot",
        "outputId": "48f710ac-7229-42d4-c403-9a4216d30e0e"
      },
      "execution_count": null,
      "outputs": [
        {
          "output_type": "stream",
          "name": "stdout",
          "text": [
            "Downloading data from https://storage.googleapis.com/tensorflow/tf-keras-datasets/imdb.npz\n",
            "17464789/17464789 [==============================] - 0s 0us/step\n",
            "25000 train sequences\n",
            "25000 test sequences\n"
          ]
        }
      ]
    },
    {
      "cell_type": "code",
      "source": [
        "#This pads (or truncates) the sequences so that they are of the maximum length\n",
        "\n",
        "x_train = sequence.pad_sequences(x_train , maxlen = maxlen)\n",
        "x_test = sequence.pad_sequences(x_test, maxlen = maxlen)\n",
        "print(\"x_train shape: \" , x_train.shape)\n",
        "print(\"x_test shape: \" , x_test.shape)"
      ],
      "metadata": {
        "id": "bRc8unH4P-Hi",
        "colab": {
          "base_uri": "https://localhost:8080/"
        },
        "outputId": "aee4915b-683c-4bda-c647-fabd98d77b08"
      },
      "execution_count": null,
      "outputs": [
        {
          "output_type": "stream",
          "name": "stdout",
          "text": [
            "x_train shape:  (25000, 30)\n",
            "x_test shape:  (25000, 30)\n"
          ]
        }
      ]
    },
    {
      "cell_type": "code",
      "source": [
        "x_train[23 ,:] #here whats an example sequence looks like an imager sequence or simply array of integers"
      ],
      "metadata": {
        "colab": {
          "base_uri": "https://localhost:8080/"
        },
        "id": "QzxZFVfFUCKj",
        "outputId": "6a77baad-4a8f-4311-a94d-a4764ced966f"
      },
      "execution_count": null,
      "outputs": [
        {
          "output_type": "execute_result",
          "data": {
            "text/plain": [
              "array([ 6379,  4226,     7,  8749,   844,    10,    10,   279, 17268,\n",
              "       16807,   494,   178,     8,   870,    11,     4,  1716,    18,\n",
              "          17,   196,    17,     9,     2,   614,     2,     2,     2,\n",
              "        3821, 18242,  3821], dtype=int32)"
            ]
          },
          "metadata": {},
          "execution_count": 6
        }
      ]
    },
    {
      "cell_type": "code",
      "source": [
        "## RNN + EMBEDDED LAYER ARCHITECTURE\n",
        "\n",
        "rnn_hidden_dim = 5\n",
        "word_embedding_dim = 50\n",
        "model_rnn = Sequential()\n",
        "model_rnn.add(Embedding(max_features , word_embedding_dim))\n",
        "model_rnn.add(SimpleRNN(rnn_hidden_dim,\n",
        "                        kernel_initializer = initializers.RandomNormal(stddev = 0.001), #weights assigned to kernel\n",
        "                        recurrent_initializer = initializers.Identity(gain = 1.0),      #weights assigned to state layers\n",
        "                        activation = 'relu' ,\n",
        "                        input_shape = x_train.shape[1:]))\n",
        "\n",
        "model_rnn.add(Dense(1 , activation = 'sigmoid'))\n"
      ],
      "metadata": {
        "id": "pzqij9t7UW-r"
      },
      "execution_count": null,
      "outputs": []
    },
    {
      "cell_type": "code",
      "source": [
        "model_rnn.summary()"
      ],
      "metadata": {
        "colab": {
          "base_uri": "https://localhost:8080/"
        },
        "id": "H7IXL7CKq7Gx",
        "outputId": "9cb76a9a-c5ca-49ab-e366-e4678ba5d168"
      },
      "execution_count": null,
      "outputs": [
        {
          "output_type": "stream",
          "name": "stdout",
          "text": [
            "Model: \"sequential_3\"\n",
            "_________________________________________________________________\n",
            " Layer (type)                Output Shape              Param #   \n",
            "=================================================================\n",
            " embedding_3 (Embedding)     (None, None, 50)          1000000   \n",
            "                                                                 \n",
            " simple_rnn (SimpleRNN)      (None, 5)                 280       \n",
            "                                                                 \n",
            " dense (Dense)               (None, 1)                 6         \n",
            "                                                                 \n",
            "=================================================================\n",
            "Total params: 1,000,286\n",
            "Trainable params: 1,000,286\n",
            "Non-trainable params: 0\n",
            "_________________________________________________________________\n"
          ]
        }
      ]
    },
    {
      "cell_type": "code",
      "source": [
        "rmsprop = keras.optimizers.RMSprop(learning_rate = 0.0001)\n",
        "\n",
        "model_rnn.compile(loss = \"binary_crossentropy\" ,\n",
        "                  optimizer = rmsprop,\n",
        "                  metrics = ['accuracy'])"
      ],
      "metadata": {
        "id": "R6q8I-rnsiOu"
      },
      "execution_count": null,
      "outputs": []
    },
    {
      "cell_type": "code",
      "source": [
        "model_rnn.fit(x_train , y_train ,\n",
        "              batch_size = batch_size,\n",
        "              epochs = 10,\n",
        "              validation_data = (x_test, y_test))"
      ],
      "metadata": {
        "colab": {
          "base_uri": "https://localhost:8080/"
        },
        "id": "jcC1drZWykAf",
        "outputId": "3dd9281c-7cdc-4035-a3f9-e25d38067e50"
      },
      "execution_count": null,
      "outputs": [
        {
          "output_type": "stream",
          "name": "stdout",
          "text": [
            "Epoch 1/10\n",
            "782/782 [==============================] - 18s 21ms/step - loss: 0.6932 - accuracy: 0.5000 - val_loss: 0.6932 - val_accuracy: 0.5000\n",
            "Epoch 2/10\n",
            "782/782 [==============================] - 16s 21ms/step - loss: 0.6932 - accuracy: 0.5000 - val_loss: 0.6932 - val_accuracy: 0.5000\n",
            "Epoch 3/10\n",
            "782/782 [==============================] - 14s 18ms/step - loss: 0.6932 - accuracy: 0.5000 - val_loss: 0.6932 - val_accuracy: 0.5000\n",
            "Epoch 4/10\n",
            "782/782 [==============================] - 16s 20ms/step - loss: 0.6932 - accuracy: 0.5000 - val_loss: 0.6931 - val_accuracy: 0.5000\n",
            "Epoch 5/10\n",
            "782/782 [==============================] - 15s 19ms/step - loss: 0.6932 - accuracy: 0.5000 - val_loss: 0.6931 - val_accuracy: 0.5000\n",
            "Epoch 6/10\n",
            "782/782 [==============================] - 16s 20ms/step - loss: 0.6932 - accuracy: 0.5000 - val_loss: 0.6931 - val_accuracy: 0.5000\n",
            "Epoch 7/10\n",
            "782/782 [==============================] - 14s 18ms/step - loss: 0.6932 - accuracy: 0.5000 - val_loss: 0.6931 - val_accuracy: 0.5000\n",
            "Epoch 8/10\n",
            "782/782 [==============================] - 14s 18ms/step - loss: 0.6932 - accuracy: 0.4982 - val_loss: 0.6931 - val_accuracy: 0.5000\n",
            "Epoch 9/10\n",
            "782/782 [==============================] - 15s 20ms/step - loss: 0.6932 - accuracy: 0.4979 - val_loss: 0.6931 - val_accuracy: 0.5000\n",
            "Epoch 10/10\n",
            "782/782 [==============================] - 15s 20ms/step - loss: 0.6932 - accuracy: 0.4958 - val_loss: 0.6931 - val_accuracy: 0.5000\n"
          ]
        },
        {
          "output_type": "execute_result",
          "data": {
            "text/plain": [
              "<keras.callbacks.History at 0x79660ebfea40>"
            ]
          },
          "metadata": {},
          "execution_count": 17
        }
      ]
    },
    {
      "cell_type": "code",
      "source": [
        "score, acc = model_rnn.evaluate(x_test , y_test,\n",
        "                                batch_size = batch_size)\n",
        "print(\"Test Score :\" , score)\n",
        "print(\"Test Accuracy\" , acc)"
      ],
      "metadata": {
        "colab": {
          "base_uri": "https://localhost:8080/"
        },
        "id": "irIKhF6Oy_sY",
        "outputId": "a7058c51-9862-4ce6-f0ab-2a52fc5cf4d1"
      },
      "execution_count": null,
      "outputs": [
        {
          "output_type": "stream",
          "name": "stdout",
          "text": [
            "782/782 [==============================] - 2s 3ms/step - loss: 0.6931 - accuracy: 0.5000\n",
            "Test Score : 0.6931464672088623\n",
            "Test Accuracy 0.5\n"
          ]
        }
      ]
    },
    {
      "cell_type": "code",
      "source": [
        "# tuning the hyperparmaters for better performance\n",
        "\n",
        "max_features = 20000 #This is used in loading the data , picks the most common (max_features) words\n",
        "maxlen = 80 # maximum_length of sequence - truncate after thus limit\n",
        "\n",
        "(x_train, y_train) , (x_test,y_test) = imdb.load_data(num_words=max_features)\n",
        "\n",
        "x_train = sequence.pad_sequences(x_train , maxlen = maxlen)\n",
        "x_test = sequence.pad_sequences(x_test, maxlen = maxlen)"
      ],
      "metadata": {
        "id": "SdNNb3YJzzlT"
      },
      "execution_count": null,
      "outputs": []
    },
    {
      "cell_type": "code",
      "source": [
        "rnn_hidden_dim = 5\n",
        "word_embedding_dim = 50\n",
        "model_rnn = Sequential()\n",
        "model_rnn.add(Embedding(max_features , word_embedding_dim))\n",
        "model_rnn.add(SimpleRNN(rnn_hidden_dim,\n",
        "                        kernel_initializer = initializers.RandomNormal(stddev = 0.001), #weights assigned to kernel\n",
        "                        recurrent_initializer = initializers.Identity(gain = 1.0),      #weights assigned to state layers\n",
        "                        activation = 'relu' ,\n",
        "                        input_shape = x_train.shape[1:]))\n",
        "\n",
        "model_rnn.add(Dense(1 , activation = 'sigmoid'))\n"
      ],
      "metadata": {
        "id": "3KDTi-cF3BN6"
      },
      "execution_count": null,
      "outputs": []
    },
    {
      "cell_type": "code",
      "source": [
        "rmsprop = keras.optimizers.RMSprop(learning_rate = 0.0001)\n",
        "\n",
        "model_rnn.compile(loss = \"binary_crossentropy\" ,\n",
        "                  optimizer = rmsprop,\n",
        "                  metrics = ['accuracy'])"
      ],
      "metadata": {
        "id": "OHY2WLQz3MdK"
      },
      "execution_count": null,
      "outputs": []
    },
    {
      "cell_type": "code",
      "source": [
        "model_rnn.fit(x_train , y_train ,\n",
        "              batch_size = batch_size,\n",
        "              epochs = 10,\n",
        "              validation_data = (x_test, y_test))"
      ],
      "metadata": {
        "colab": {
          "base_uri": "https://localhost:8080/"
        },
        "id": "1BWx0_7D3YYY",
        "outputId": "abce4063-1351-41d1-a3f7-7432d924be2a"
      },
      "execution_count": null,
      "outputs": [
        {
          "output_type": "stream",
          "name": "stdout",
          "text": [
            "Epoch 1/10\n",
            "782/782 [==============================] - 27s 33ms/step - loss: 0.6829 - accuracy: 0.5661 - val_loss: 0.6489 - val_accuracy: 0.6594\n",
            "Epoch 2/10\n",
            "782/782 [==============================] - 25s 32ms/step - loss: 0.5829 - accuracy: 0.7118 - val_loss: 0.5494 - val_accuracy: 0.7290\n",
            "Epoch 3/10\n",
            "782/782 [==============================] - 25s 32ms/step - loss: 0.4908 - accuracy: 0.7686 - val_loss: 0.5019 - val_accuracy: 0.7549\n",
            "Epoch 4/10\n",
            "782/782 [==============================] - 25s 32ms/step - loss: 0.4431 - accuracy: 0.7979 - val_loss: 0.4809 - val_accuracy: 0.7721\n",
            "Epoch 5/10\n",
            "782/782 [==============================] - 25s 32ms/step - loss: 0.4097 - accuracy: 0.8166 - val_loss: 0.4646 - val_accuracy: 0.7836\n",
            "Epoch 6/10\n",
            "782/782 [==============================] - 25s 32ms/step - loss: 0.3841 - accuracy: 0.8308 - val_loss: 0.4571 - val_accuracy: 0.7764\n",
            "Epoch 7/10\n",
            "782/782 [==============================] - 25s 32ms/step - loss: 0.3622 - accuracy: 0.8453 - val_loss: 0.4343 - val_accuracy: 0.7993\n",
            "Epoch 8/10\n",
            "782/782 [==============================] - 24s 30ms/step - loss: 0.3434 - accuracy: 0.8539 - val_loss: 0.4250 - val_accuracy: 0.8036\n",
            "Epoch 9/10\n",
            "782/782 [==============================] - 26s 33ms/step - loss: 0.3276 - accuracy: 0.8612 - val_loss: 0.4110 - val_accuracy: 0.8101\n",
            "Epoch 10/10\n",
            "782/782 [==============================] - 26s 34ms/step - loss: 0.3132 - accuracy: 0.8685 - val_loss: 0.4082 - val_accuracy: 0.8127\n"
          ]
        },
        {
          "output_type": "execute_result",
          "data": {
            "text/plain": [
              "<keras.callbacks.History at 0x796606731bd0>"
            ]
          },
          "metadata": {},
          "execution_count": 30
        }
      ]
    },
    {
      "cell_type": "code",
      "source": [
        "score, acc = model_rnn.evaluate(x_test , y_test,\n",
        "                                batch_size = batch_size)\n",
        "print(\"Test Score :\" , score)\n",
        "print(\"Test Accuracy\" , acc)"
      ],
      "metadata": {
        "colab": {
          "base_uri": "https://localhost:8080/"
        },
        "id": "uYO9_N8H48gQ",
        "outputId": "9b0db55d-63f2-48ed-ecc3-02736da20e47"
      },
      "execution_count": null,
      "outputs": [
        {
          "output_type": "stream",
          "name": "stdout",
          "text": [
            "782/782 [==============================] - 5s 7ms/step - loss: 0.4082 - accuracy: 0.8127\n",
            "Test Score : 0.40818390250205994\n",
            "Test Accuracy 0.812720000743866\n"
          ]
        }
      ]
    },
    {
      "cell_type": "code",
      "source": [
        "max_features = 5000 #This is used in loading the data , picks the most common (max_features) words\n",
        "maxlen = 80 # maximum_length of sequence - truncate after thus limit\n",
        "\n",
        "(x_train, y_train) , (x_test,y_test) = imdb.load_data(num_words=max_features)\n",
        "\n",
        "x_train = sequence.pad_sequences(x_train , maxlen = maxlen)\n",
        "x_test = sequence.pad_sequences(x_test, maxlen = maxlen)"
      ],
      "metadata": {
        "id": "1ot4vjdD3elA"
      },
      "execution_count": null,
      "outputs": []
    },
    {
      "cell_type": "code",
      "source": [
        "rnn_hidden_dim = 5\n",
        "word_embedding_dim = 20\n",
        "model_rnn = Sequential()\n",
        "model_rnn.add(Embedding(max_features , word_embedding_dim))\n",
        "model_rnn.add(SimpleRNN(rnn_hidden_dim,\n",
        "                        kernel_initializer = initializers.RandomNormal(stddev = 0.001), #weights assigned to kernel\n",
        "                        recurrent_initializer = initializers.Identity(gain = 1.0),      #weights assigned to state layers\n",
        "                        activation = 'relu' ,\n",
        "                        input_shape = x_train.shape[1:]))\n",
        "\n",
        "model_rnn.add(Dense(1 , activation = 'sigmoid'))\n"
      ],
      "metadata": {
        "id": "14SBIjV53tS0"
      },
      "execution_count": null,
      "outputs": []
    },
    {
      "cell_type": "code",
      "source": [
        "rmsprop = keras.optimizers.RMSprop(learning_rate = 0.0001)\n",
        "\n",
        "model_rnn.compile(loss = \"binary_crossentropy\" ,\n",
        "                  optimizer = rmsprop,\n",
        "                  metrics = ['accuracy'])"
      ],
      "metadata": {
        "id": "8S9Q-33q36_d"
      },
      "execution_count": null,
      "outputs": []
    },
    {
      "cell_type": "code",
      "source": [
        "model_rnn.fit(x_train , y_train ,\n",
        "              batch_size = batch_size,\n",
        "              epochs = 10,\n",
        "              validation_data = (x_test, y_test))"
      ],
      "metadata": {
        "colab": {
          "base_uri": "https://localhost:8080/"
        },
        "id": "gFz_aYl337xe",
        "outputId": "e1614068-d5bb-49c4-fd48-12ef49411c62"
      },
      "execution_count": null,
      "outputs": [
        {
          "output_type": "stream",
          "name": "stdout",
          "text": [
            "Epoch 1/10\n",
            "782/782 [==============================] - 21s 25ms/step - loss: 0.6696 - accuracy: 0.5862 - val_loss: 0.6350 - val_accuracy: 0.6335\n",
            "Epoch 2/10\n",
            "782/782 [==============================] - 20s 26ms/step - loss: 0.5503 - accuracy: 0.7286 - val_loss: 0.5225 - val_accuracy: 0.7376\n",
            "Epoch 3/10\n",
            "782/782 [==============================] - 19s 24ms/step - loss: 0.4727 - accuracy: 0.7786 - val_loss: 0.5070 - val_accuracy: 0.7548\n",
            "Epoch 4/10\n",
            "782/782 [==============================] - 21s 27ms/step - loss: 0.4294 - accuracy: 0.8046 - val_loss: 0.4471 - val_accuracy: 0.7912\n",
            "Epoch 5/10\n",
            "782/782 [==============================] - 19s 24ms/step - loss: 0.3991 - accuracy: 0.8216 - val_loss: 0.4265 - val_accuracy: 0.8047\n",
            "Epoch 6/10\n",
            "782/782 [==============================] - 20s 26ms/step - loss: 0.3752 - accuracy: 0.8338 - val_loss: 0.4258 - val_accuracy: 0.8049\n",
            "Epoch 7/10\n",
            "782/782 [==============================] - 19s 24ms/step - loss: 0.3564 - accuracy: 0.8451 - val_loss: 0.4063 - val_accuracy: 0.8169\n",
            "Epoch 8/10\n",
            "782/782 [==============================] - 20s 26ms/step - loss: 0.3402 - accuracy: 0.8540 - val_loss: 0.3820 - val_accuracy: 0.8275\n",
            "Epoch 9/10\n",
            "782/782 [==============================] - 19s 24ms/step - loss: 0.3273 - accuracy: 0.8608 - val_loss: 0.3743 - val_accuracy: 0.8306\n",
            "Epoch 10/10\n",
            "782/782 [==============================] - 20s 26ms/step - loss: 0.3172 - accuracy: 0.8650 - val_loss: 0.3733 - val_accuracy: 0.8340\n"
          ]
        },
        {
          "output_type": "execute_result",
          "data": {
            "text/plain": [
              "<keras.callbacks.History at 0x796606b432e0>"
            ]
          },
          "metadata": {},
          "execution_count": 35
        }
      ]
    },
    {
      "cell_type": "code",
      "source": [
        "score, acc = model_rnn.evaluate(x_test , y_test,\n",
        "                                batch_size = batch_size)\n",
        "print(\"Test Score :\" , score)\n",
        "print(\"Test Accuracy\" , acc)"
      ],
      "metadata": {
        "colab": {
          "base_uri": "https://localhost:8080/"
        },
        "id": "RjzfR9TV4_9E",
        "outputId": "cc5e78fe-2744-4011-f34e-0e1c976af53e"
      },
      "execution_count": null,
      "outputs": [
        {
          "output_type": "stream",
          "name": "stdout",
          "text": [
            "782/782 [==============================] - 5s 6ms/step - loss: 0.3733 - accuracy: 0.8340\n",
            "Test Score : 0.37334394454956055\n",
            "Test Accuracy 0.8339599967002869\n"
          ]
        }
      ]
    },
    {
      "cell_type": "code",
      "source": [
        "#just for more iterations in order to see its impact on performance\n",
        "\n",
        "model_rnn.fit(x_train , y_train ,\n",
        "              batch_size = batch_size,\n",
        "              epochs = 10,\n",
        "              validation_data = (x_test, y_test))"
      ],
      "metadata": {
        "colab": {
          "base_uri": "https://localhost:8080/"
        },
        "id": "ul64o34n398f",
        "outputId": "c65bac7f-b436-4c8a-ebd5-08a2aedfc3af"
      },
      "execution_count": null,
      "outputs": [
        {
          "output_type": "stream",
          "name": "stdout",
          "text": [
            "Epoch 1/10\n",
            "782/782 [==============================] - 20s 26ms/step - loss: 0.3081 - accuracy: 0.8702 - val_loss: 0.3669 - val_accuracy: 0.8332\n",
            "Epoch 2/10\n",
            "782/782 [==============================] - 20s 25ms/step - loss: 0.3012 - accuracy: 0.8732 - val_loss: 0.3789 - val_accuracy: 0.8298\n",
            "Epoch 3/10\n",
            "782/782 [==============================] - 20s 26ms/step - loss: 0.2953 - accuracy: 0.8762 - val_loss: 0.3636 - val_accuracy: 0.8406\n",
            "Epoch 4/10\n",
            "782/782 [==============================] - 20s 26ms/step - loss: 0.2906 - accuracy: 0.8791 - val_loss: 0.3730 - val_accuracy: 0.8322\n",
            "Epoch 5/10\n",
            "782/782 [==============================] - 18s 24ms/step - loss: 0.2865 - accuracy: 0.8808 - val_loss: 0.3556 - val_accuracy: 0.8444\n",
            "Epoch 6/10\n",
            "782/782 [==============================] - 20s 25ms/step - loss: 0.2832 - accuracy: 0.8824 - val_loss: 0.3601 - val_accuracy: 0.8433\n",
            "Epoch 7/10\n",
            "782/782 [==============================] - 19s 24ms/step - loss: 0.2804 - accuracy: 0.8827 - val_loss: 0.3585 - val_accuracy: 0.8440\n",
            "Epoch 8/10\n",
            "782/782 [==============================] - 21s 26ms/step - loss: 0.2780 - accuracy: 0.8846 - val_loss: 0.3667 - val_accuracy: 0.8410\n",
            "Epoch 9/10\n",
            "782/782 [==============================] - 19s 24ms/step - loss: 0.2757 - accuracy: 0.8866 - val_loss: 0.3596 - val_accuracy: 0.8452\n",
            "Epoch 10/10\n",
            "782/782 [==============================] - 20s 26ms/step - loss: 0.2739 - accuracy: 0.8875 - val_loss: 0.3564 - val_accuracy: 0.8452\n"
          ]
        },
        {
          "output_type": "execute_result",
          "data": {
            "text/plain": [
              "<keras.callbacks.History at 0x79660de96320>"
            ]
          },
          "metadata": {},
          "execution_count": 37
        }
      ]
    },
    {
      "cell_type": "code",
      "source": [
        "score, acc = model_rnn.evaluate(x_test , y_test,\n",
        "                                batch_size = batch_size)\n",
        "print(\"Test Score :\" , score)\n",
        "print(\"Test Accuracy\" , acc)"
      ],
      "metadata": {
        "colab": {
          "base_uri": "https://localhost:8080/"
        },
        "id": "nuPSBAzt5BKK",
        "outputId": "b0cc009c-16cc-4742-b89e-ed407a31d8bd"
      },
      "execution_count": null,
      "outputs": [
        {
          "output_type": "stream",
          "name": "stdout",
          "text": [
            "782/782 [==============================] - 5s 7ms/step - loss: 0.3564 - accuracy: 0.8452\n",
            "Test Score : 0.3563743829727173\n",
            "Test Accuracy 0.8452399969100952\n"
          ]
        }
      ]
    },
    {
      "cell_type": "code",
      "source": [],
      "metadata": {
        "id": "dCSe33iQ40E3"
      },
      "execution_count": null,
      "outputs": []
    }
  ]
}